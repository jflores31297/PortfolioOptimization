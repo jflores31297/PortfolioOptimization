{
 "cells": [
  {
   "cell_type": "code",
   "execution_count": 1,
   "id": "96c1066e-12d5-451d-8083-2af17301d336",
   "metadata": {},
   "outputs": [],
   "source": [
    "import numpy as np\n",
    "import matplotlib.pyplot as plt"
   ]
  },
  {
   "cell_type": "markdown",
   "id": "d8d5d6a4-b0e1-4b1a-a65e-5ce4956a3975",
   "metadata": {},
   "source": [
    "# Specify Parameters\n",
    "1. Risk-Free Rate $(r_f)$\n",
    "2. Expected Return of Risky Portfolio $(E(r_P))$\n",
    "3. Standard Deviation of Risky Portfolio $(\\sigma_P)$\n",
    "4. Risk Aversion Coefficient $(A)$"
   ]
  },
  {
   "cell_type": "code",
   "execution_count": 2,
   "id": "295cc614-64e8-4d92-9c49-11513c775e4f",
   "metadata": {},
   "outputs": [],
   "source": [
    "r_f = .07\n",
    "E_R_P = .15\n",
    "sigma_P = .22\n",
    "A = 2.3"
   ]
  },
  {
   "cell_type": "markdown",
   "id": "9e677e48-5afc-461a-a357-8d286190ee83",
   "metadata": {},
   "source": [
    "# Define Function to Calculate Expected Return of Composite Portfolio \n",
    "This function calculates the Expected Return of a Composite Portfolio $(E(r_C))$ for a given level of risk $(\\sigma_C)$, using the Capital Market Line (CML) formula:\n",
    "\n",
    "$$E(r_C) = r_f + \\left( \\frac{E(r_P) - r_f}{\\sigma_P} \\right) \\cdot \\sigma_C$$\n"
   ]
  },
  {
   "cell_type": "code",
   "execution_count": 3,
   "id": "d5dca330-ae87-4dcb-8161-bb2c26c9ebb0",
   "metadata": {},
   "outputs": [],
   "source": [
    "def calculate_E_R_C(sigma_C):\n",
    "    \"\"\"\n",
    "    This function calculates the Expected Return of a Composite Portfolio ( E(r_C) ) for a given level of risk (sigma_C), using the Capital Market Line (CML) formula.\n",
    "\n",
    "    Input Variables:\n",
    "\tsigma_C: Input to the function, representing the risk (standard deviation) of the composite portfolio.    \n",
    "    \"\"\"\n",
    "    E_R_C = r_f + ((E_R_P - r_f) / sigma_P) * sigma_C\n",
    "    return E_R_C\n"
   ]
  },
  {
   "cell_type": "markdown",
   "id": "e0d6ce7f-32ca-47b6-8749-b80957ddc544",
   "metadata": {},
   "source": [
    "# Generate a Range of Risk Values for the Composite Portfolio $(\\sigma_C)$ and Calculate the Corresponding Expected Returns $(E(r_C))$"
   ]
  },
  {
   "cell_type": "code",
   "execution_count": 4,
   "id": "beafc96a-ab56-48ee-b190-6e417f035cf0",
   "metadata": {},
   "outputs": [],
   "source": [
    "# Generate a range of risk (sigma_C) values\n",
    "sigma_C_values = np.linspace(0, 0.22, 100)  "
   ]
  },
  {
   "cell_type": "markdown",
   "id": "e3d69da3-fdbd-42b9-a7e2-064c38aa9888",
   "metadata": {},
   "source": [
    "This line uses the numpy library to generate a sequence of numbers. Here’s what each part does:\n",
    "1. np.linspace(start, stop, num):\n",
    "   - This function generates num evenly spaced numbers between start and stop (inclusive).\n",
    "   - It’s part of the numpy library, often used for numerical computations in Python.\n",
    "2. start = 0:\n",
    "   - The sequence starts at  0 .\n",
    "3. stop = 0.22:\n",
    "   - The sequence ends at  0.22 .\n",
    "4. num = 100:\n",
    "   - A total of  100  numbers are generated, including both the start and stop values.\n",
    "\n",
    "What It Does:\n",
    "- This code creates an array of  100  equally spaced values between  0  and  0.22 , inclusive.\n",
    "- The values represent a range of possible  $\\sigma_C$  (risk values) for which calculations or simulations might be performed."
   ]
  },
  {
   "cell_type": "markdown",
   "id": "fe91778b-5e54-4129-83a2-46fcd8391c91",
   "metadata": {},
   "source": [
    "# "
   ]
  },
  {
   "cell_type": "code",
   "execution_count": 5,
   "id": "d8c99b04-fff8-4734-8d88-7bf26a0c2d6a",
   "metadata": {},
   "outputs": [],
   "source": [
    "# Calculate the corresponding expected returns (E(R_C))\n",
    "E_R_C_values = calculate_E_R_C(sigma_C_values)"
   ]
  },
  {
   "cell_type": "markdown",
   "id": "21570a07-a742-4746-890a-5cf2e462b11e",
   "metadata": {},
   "source": [
    "This line calculates the various Expected Returns of the Composite Portfolio using our pre-defined function for the range of risk values $(\\sigma_C)$ generated above."
   ]
  },
  {
   "cell_type": "markdown",
   "id": "b1c3ab71-60c1-439d-a6a6-515787944638",
   "metadata": {},
   "source": [
    "# Calculate the Optimal Allocation to the Risky Portfolio"
   ]
  },
  {
   "cell_type": "code",
   "execution_count": 6,
   "id": "65e6e506-b0db-486c-81e4-bd1d01cfacc5",
   "metadata": {},
   "outputs": [],
   "source": [
    "# Calculate the Optimal Allocation to the Risky Portfolio\n",
    "y = (E_R_P - r_f)/(A*(sigma_P**2))"
   ]
  },
  {
   "cell_type": "markdown",
   "id": "69448394-54ed-41ef-85fb-a4e0e2c76757",
   "metadata": {},
   "source": [
    "This line uses the equation below to solve for the optimal allocation for risk-averse investors in the risky portfolio $(y^*)$. This is the proportion of the risky portfolio at which the utility is maximized.\n",
    "$$ y^* = {{E(r_P)-r_f}\\over A\\sigma^2_P} $$"
   ]
  },
  {
   "cell_type": "markdown",
   "id": "47971189-c596-49a1-8253-9fc9d9a52ace",
   "metadata": {},
   "source": [
    "### Calculate the Max Utility of the Optimal Portfolio"
   ]
  },
  {
   "cell_type": "code",
   "execution_count": 7,
   "id": "81dab073-5b13-4804-aae0-810f8f67120c",
   "metadata": {},
   "outputs": [],
   "source": [
    "Max_U = r_f + y*(E_R_P - r_f) - .5 * A * (y**2) * (sigma_P**2)"
   ]
  },
  {
   "cell_type": "markdown",
   "id": "f9459312-1af2-42ea-ad00-1b9d09ce46b3",
   "metadata": {},
   "source": [
    "This line calculates the utility value of the optimal portfolio with risky allocation $y^*$ based on the utility function below:\n",
    "\n",
    "$$ \\text{Max}\\ U = r_f +y[E(r_P)-r_f]-{1\\over2}Ay^2\\sigma^2_P $$"
   ]
  },
  {
   "cell_type": "markdown",
   "id": "8b457bc5-ae7b-444a-a248-96272a4a9a09",
   "metadata": {},
   "source": [
    "# "
   ]
  },
  {
   "cell_type": "markdown",
   "id": "5965a6ea-b561-4785-a384-0fa52537a9a5",
   "metadata": {},
   "source": [
    "# Generate a range of risk values $(\\sigma)$ and corresponding expected returns $(E(r))$ to plot the indifference curve for the optimal portfolio"
   ]
  },
  {
   "cell_type": "code",
   "execution_count": 8,
   "id": "6729fd5c-89b2-45ac-a344-814086ffddfc",
   "metadata": {},
   "outputs": [],
   "source": [
    "sigma_range = np.linspace(0, 0.4, 500)  # Standard deviation (risk)"
   ]
  },
  {
   "cell_type": "markdown",
   "id": "381ea666-de66-4460-af45-76d037589296",
   "metadata": {},
   "source": [
    "Similar to our $\\sigma_C$ range, This function generates 500 evenly spaced numbers between 0 and 0.4 (inclusive)."
   ]
  },
  {
   "cell_type": "code",
   "execution_count": 9,
   "id": "34159632-cd98-4953-a703-5269e8f28ed5",
   "metadata": {},
   "outputs": [],
   "source": [
    "# Calculate E(r) for the given utility and risk aversion\n",
    "E_r = Max_U + 0.5 * A * sigma_range**2"
   ]
  },
  {
   "cell_type": "markdown",
   "id": "e4c706c9-f23e-4e84-be01-d470b111cf33",
   "metadata": {},
   "source": [
    "Here we calculate the corresponding expected returns $(E(r))$ for the range risk values from above."
   ]
  },
  {
   "cell_type": "markdown",
   "id": "0afa8133-bec0-46ff-9ec4-56aaa7f3fd92",
   "metadata": {},
   "source": [
    "# Calculate the Standard Deviation of the Optimal Portfolio"
   ]
  },
  {
   "cell_type": "markdown",
   "id": "4e78ea4e-fe63-49e9-9520-97a1c9126217",
   "metadata": {},
   "source": [
    "We calculate the Standard Deviation of the Optimal Portfolio using the function $\\sigma_C=y\\sigma_P$"
   ]
  },
  {
   "cell_type": "code",
   "execution_count": 10,
   "id": "43c2e8d9-03c9-4af2-a359-77879c000e1c",
   "metadata": {},
   "outputs": [],
   "source": [
    "SD_C = y * sigma_P"
   ]
  },
  {
   "cell_type": "markdown",
   "id": "c24dc6dc-1637-4e7f-a853-0011ec6f4d94",
   "metadata": {},
   "source": [
    "# Calculate the Expected Return of the Optimal Portfolio"
   ]
  },
  {
   "cell_type": "markdown",
   "id": "d704d84e-020a-474b-9bbf-cf5cdb644f15",
   "metadata": {},
   "source": [
    "We calculate the expected return of the optimal portfolio using our pre-defined function (calculate_E_R_C) using the standard deviation of the optimal portfolio we calculated above as the input."
   ]
  },
  {
   "cell_type": "code",
   "execution_count": 11,
   "id": "fa6a8808-78c9-455a-b331-8c4121cf9fac",
   "metadata": {},
   "outputs": [],
   "source": [
    "Optimal_E_R_C = calculate_E_R_C(SD_C)"
   ]
  },
  {
   "cell_type": "markdown",
   "id": "55980ae8-5a96-4a6d-94f6-452911020b46",
   "metadata": {},
   "source": [
    "# Print Results"
   ]
  },
  {
   "cell_type": "code",
   "execution_count": 12,
   "id": "13bf0a12-fca3-496f-9831-2b98efb5265d",
   "metadata": {},
   "outputs": [
    {
     "name": "stdout",
     "output_type": "stream",
     "text": [
      "Optimal Portfolio Parameters:\n",
      "Optimal Allocation to Risky Portfolio = 0.72\n",
      "Optimal Allocation to Risk-Free Asset = 0.28\n",
      "Expected Return of Composite Portfolio = 0.13\n",
      "Standard Deviation of Composit Portfolio = 0.16\n"
     ]
    }
   ],
   "source": [
    "print(\"Optimal Portfolio Parameters:\")\n",
    "print(f\"Optimal Allocation to Risky Portfolio = {y:.2f}\")\n",
    "print(f\"Optimal Allocation to Risk-Free Asset = {1-y:.2f}\")\n",
    "print(f\"Expected Return of Composite Portfolio = {Optimal_E_R_C:.2f}\")\n",
    "print(f\"Standard Deviation of Composit Portfolio = {SD_C:.2f}\")"
   ]
  },
  {
   "cell_type": "markdown",
   "id": "20412944-e4fa-4263-83c9-858a31d8c0c1",
   "metadata": {},
   "source": [
    "# Plot CAL and Indifference Curve"
   ]
  },
  {
   "cell_type": "code",
   "execution_count": 15,
   "id": "4fbc5cdb-f4b9-417c-a0a7-503ce2630fd1",
   "metadata": {},
   "outputs": [
    {
     "data": {
      "image/png": "[encoded data removed]",
      "text/plain": [
       "<Figure size 800x500 with 1 Axes>"
      ]
     },
     "metadata": {},
     "output_type": "display_data"
    }
   ],
   "source": [
    "# Plot the Capital Allocation Line\n",
    "# Re-plotting the CAL with the y-axis starting at 0\n",
    "plt.figure(figsize=(8, 5))\n",
    "plt.plot(sigma_C_values, E_R_C_values, label='Capital Allocation Line (CAL)', color='black')\n",
    "plt.plot(sigma_range, E_r, linestyle='dotted', label=f\"Indifference Curve (A={A}, U={Max_U:.2f})\")\n",
    "plt.scatter(sigma_P, E_R_P, color='black', label='Risky Portfolio (P)', zorder=5)\n",
    "plt.scatter(SD_C, Optimal_E_R_C, color='red', label='Optimal Allocation Portfolio (C)', zorder=5)\n",
    "plt.axhline(y=r_f, color='#219ebc', linestyle='--', label='Risk-Free Rate ($R_f$)')\n",
    "plt.axhline(y=E_R_P, color='#606c38', linestyle='-.', label='Expected Return of P ($E(R_P)$)')\n",
    "\n",
    "# Annotating the graph\n",
    "plt.title(\"Capital Allocation Line (CAL)\")\n",
    "plt.xlabel(r\"Portfolio Risk ($\\sigma_C$)\")\n",
    "plt.ylabel(\"Expected Return ($E(R_C)$)\")\n",
    "plt.ylim(0, 0.3)  # Start y-axis at 0 and add a small margin at the top\n",
    "plt.xlim(0, 0.5)\n",
    "plt.legend()\n",
    "plt.grid()\n",
    "\n",
    "# Show the plot\n",
    "plt.show()"
   ]
  },
  {
   "cell_type": "code",
   "execution_count": null,
   "id": "c87c3291-3f1c-42d7-98c9-742fa3ae337f",
   "metadata": {},
   "outputs": [],
   "source": []
  }
 ],
 "metadata": {
  "kernelspec": {
   "display_name": "Python 3 (ipykernel)",
   "language": "python",
   "name": "python3"
  },
  "language_info": {
   "codemirror_mode": {
    "name": "ipython",
    "version": 3
   },
   "file_extension": ".py",
   "mimetype": "text/x-python",
   "name": "python",
   "nbconvert_exporter": "python",
   "pygments_lexer": "ipython3",
   "version": "3.12.4"
  }
 },
 "nbformat": 4,
 "nbformat_minor": 5
}
